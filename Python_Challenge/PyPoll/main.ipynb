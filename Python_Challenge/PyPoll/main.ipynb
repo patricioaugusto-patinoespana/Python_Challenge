{
 "cells": [
  {
   "cell_type": "code",
   "execution_count": null,
   "id": "ade19d31-7617-4622-b8f8-71831a306afa",
   "metadata": {},
   "outputs": [],
   "source": [
    "# import libraries\n",
    "import os\n",
    "import csv"
   ]
  },
  {
   "cell_type": "code",
   "execution_count": null,
   "id": "68aa859f-7b18-45c9-989f-dea7a7d7303c",
   "metadata": {},
   "outputs": [],
   "source": [
    "# open csv file\n",
    "election_csv = os.path.join(\"Resources\",\"election_data.csv\")"
   ]
  },
  {
   "cell_type": "code",
   "execution_count": null,
   "id": "2ba00754-8976-463c-ae7d-1a037f543a15",
   "metadata": {},
   "outputs": [],
   "source": [
    "# list to store data\n",
    "totalv = 0\n",
    "cdts = {}\n",
    "winner = \"\"\n",
    "mvotes = 0"
   ]
  },
  {
   "cell_type": "code",
   "execution_count": null,
   "id": "22b2d283-a7bd-4a6c-841f-a94cf27ffb1a",
   "metadata": {},
   "outputs": [],
   "source": [
    "# open and read csv file\n",
    "with open (election_csv) as csvfile:\n",
    "    election_csv_reader = csv.reader(csvfile)\n",
    "    header = next(election_csv_reader)\n",
    "\n",
    "    for row in election_csv_reader:\n",
    "        totalv = totalv + 1\n",
    "        cdt = row[2]\n",
    "        if cdt in cdts: \n",
    "            cdts[cdt] += 1\n",
    "        else:\n",
    "            cdts[cdt] = 1"
   ]
  },
  {
   "cell_type": "code",
   "execution_count": null,
   "id": "32f7d780-0a24-4fe5-b5b5-3a6863493fee",
   "metadata": {},
   "outputs": [],
   "source": [
    "# calculate percentages and find the winner\n",
    "for cdt, votes in cdts.items():\n",
    "    pctg = (votes / totalv) * 100\n",
    "    if votes > mvotes:\n",
    "        mvotes = votes\n",
    "        winner = cdt\n",
    "    cdts[cdt] = (votes, pctg)"
   ]
  },
  {
   "cell_type": "code",
   "execution_count": null,
   "id": "4193b908-7712-430d-a36d-2d94ed5a2dfc",
   "metadata": {},
   "outputs": [],
   "source": [
    "# print results\n",
    "print(\"Election Results\")\n",
    "print(\"--------------------------\")\n",
    "print(f\"Total Votes: {totalv}\")\n",
    "print(\"--------------------------\")\n",
    "for cdt, (votes, pctg) in cdts.items():\n",
    "    print(f\"{cdt}: {pctg:.3f}% ({votes})\")\n",
    "print(\"--------------------------\")\n",
    "print(f\"Winner: {winner}\")\n",
    "print(\"--------------------------\")"
   ]
  },
  {
   "cell_type": "code",
   "execution_count": null,
   "id": "cfbda8b3-b8c4-409c-9b16-3cd601effb7c",
   "metadata": {
    "tags": []
   },
   "outputs": [],
   "source": [
    "# export results to a txt file\n",
    "ndir = 'Analysis'\n",
    "if not os.path.exists(ndir):\n",
    "    os.makedirs(ndir)\n",
    "nfile = os.path.join(ndir, 'Election Results.txt')\n",
    " \n",
    "with open (nfile, mode = 'w') as file:\n",
    "    file.write(\"Election Results\\n\")\n",
    "    file.write(\"-------------------------\\n\")\n",
    "    file.write(f\"Total Votes: {totalv}\\n\")\n",
    "    file.write(\"-------------------------\\n\")\n",
    "    for cdt, (votes, pctg) in cdts.items():\n",
    "        file.write(f\"{cdt}: {pctg:.3f}% ({votes})\\n\")\n",
    "    file.write(\"-------------------------\\n\")\n",
    "    file.write(f\"Winner: {winner}\\n\")\n",
    "    file.write(\"-------------------------\\n\")"
   ]
  }
 ],
 "metadata": {
  "kernelspec": {
   "display_name": "Python 3 (ipykernel)",
   "language": "python",
   "name": "python3"
  },
  "language_info": {
   "codemirror_mode": {
    "name": "ipython",
    "version": 3
   },
   "file_extension": ".py",
   "mimetype": "text/x-python",
   "name": "python",
   "nbconvert_exporter": "python",
   "pygments_lexer": "ipython3",
   "version": "3.11.7"
  }
 },
 "nbformat": 4,
 "nbformat_minor": 5
}

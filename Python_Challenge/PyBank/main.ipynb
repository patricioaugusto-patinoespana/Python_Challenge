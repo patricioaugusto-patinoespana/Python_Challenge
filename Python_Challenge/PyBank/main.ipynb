{
 "cells": [
  {
   "cell_type": "code",
   "execution_count": null,
   "id": "3d93d33a-bbd3-4886-a12e-2812518d7469",
   "metadata": {},
   "outputs": [],
   "source": [
    "# import libraries\n",
    "import os\n",
    "import csv"
   ]
  },
  {
   "cell_type": "code",
   "execution_count": null,
   "id": "f216435f-8ba0-4848-a99e-f0c97b6ae811",
   "metadata": {},
   "outputs": [],
   "source": [
    "# open csv file\n",
    "budget_csv = os.path.join(\"Resources\",\"budget_data.csv\")"
   ]
  },
  {
   "cell_type": "code",
   "execution_count": null,
   "id": "4f7c637b-7208-40c3-bcc3-6cbf618fee6e",
   "metadata": {},
   "outputs": [],
   "source": [
    "# List to store data\n",
    "totalm = 0\n",
    "ntotal = 0\n",
    "prev_pr_loss = None\n",
    "change = []\n",
    "date = []"
   ]
  },
  {
   "cell_type": "code",
   "execution_count": null,
   "id": "db7940b4-ec58-411b-95b0-0f90317534cf",
   "metadata": {},
   "outputs": [],
   "source": [
    "# open and read csv file\n",
    "with open (budget_csv) as csvfile:\n",
    "    budget_csv_reader = csv.reader(csvfile)\n",
    "    csv_header = next(budget_csv_reader)\n",
    "\n",
    "# Get the total months and net total of \"Profit / Losses\"\n",
    "    for row in budget_csv_reader:\n",
    "        date_pr = row[0]\n",
    "        prof_loss = int(row[1])\n",
    "\n",
    "        totalm = totalm + 1\n",
    "        ntotal = ntotal + prof_loss\n",
    "\n",
    "        if prev_pr_loss is not None:\n",
    "            change_pr = prof_loss - prev_pr_loss\n",
    "            change.append(change_pr)\n",
    "            date.append(date_pr)\n",
    "      \n",
    "        prev_pr_loss = prof_loss"
   ]
  },
  {
   "cell_type": "code",
   "execution_count": null,
   "id": "6ce5a374-2b6b-4c77-9dbd-357970b76307",
   "metadata": {},
   "outputs": [],
   "source": [
    "# average change\n",
    "if len(change) > 0:\n",
    "    avg_change = sum(change) / len(change)\n",
    "else:\n",
    "    avg_change = 0\n",
    "\n",
    "if len(change) > 0:\n",
    "    grt_ic = max(change)\n",
    "    grt_dc = min(change)\n",
    "    grt_ic_dt = date[change.index(grt_ic)]\n",
    "    grt_dc_dt = date[change.index(grt_dc)]\n",
    "else:\n",
    "    grt_ic = 0\n",
    "    grt_dc = 0 \n",
    "    grt_ic_dt = ''\n",
    "    grt_dc_dt = ''"
   ]
  },
  {
   "cell_type": "code",
   "execution_count": null,
   "id": "dba2279e-936a-469c-a125-ade5f2d61ba4",
   "metadata": {
    "tags": []
   },
   "outputs": [],
   "source": [
    "# print reults\n",
    "print('Financial Analysis')\n",
    "print('---------------------')\n",
    "print(f'Total Months: {totalm}')\n",
    "print(f'Total : {ntotal}')\n",
    "print(f'Average Change: $ {avg_change:.2f}')\n",
    "print(f'Greatest Increase in Profits: {grt_ic_dt} ({grt_ic})')\n",
    "print(f'Greatest Decrease in Profits: {grt_dc_dt} ({grt_dc})')"
   ]
  },
  {
   "cell_type": "code",
   "execution_count": null,
   "id": "9830b4c8-710a-440c-a984-b58cff04cc5a",
   "metadata": {
    "tags": []
   },
   "outputs": [],
   "source": [
    "# export results, to a txt file\n",
    "ndir = 'Analysis'\n",
    "if not os.path.exists(ndir):\n",
    "    os.makedirs(ndir)\n",
    "nfile = os.path.join(ndir, 'Financial Analysis.txt')\n",
    "\n",
    "with open (nfile, mode = 'w') as file:\n",
    "    file.write('Financial Analysis\\n')\n",
    "    file.write('---------------------\\n')\n",
    "    file.write(f'Total Months: {totalm}\\n')\n",
    "    file.write(f'Total : {ntotal}\\n')\n",
    "    file.write(f'Average Change: $ {avg_change:.2f}\\n')\n",
    "    file.write(f'Greatest Increase in Profits: {grt_ic_dt} ({grt_ic})\\n')\n",
    "    file.write(f'Greatest Decrease in Profits: {grt_dc_dt} ({grt_dc})\\n')"
   ]
  }
 ],
 "metadata": {
  "kernelspec": {
   "display_name": "Python 3 (ipykernel)",
   "language": "python",
   "name": "python3"
  },
  "language_info": {
   "codemirror_mode": {
    "name": "ipython",
    "version": 3
   },
   "file_extension": ".py",
   "mimetype": "text/x-python",
   "name": "python",
   "nbconvert_exporter": "python",
   "pygments_lexer": "ipython3",
   "version": "3.11.7"
  }
 },
 "nbformat": 4,
 "nbformat_minor": 5
}
